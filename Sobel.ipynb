{
  "nbformat": 4,
  "nbformat_minor": 0,
  "metadata": {
    "colab": {
      "provenance": []
    },
    "kernelspec": {
      "name": "python3",
      "display_name": "Python 3"
    },
    "language_info": {
      "name": "python"
    }
  },
  "cells": [
    {
      "cell_type": "markdown",
      "source": [
        "<a href=\"https://colab.research.google.com/github/jortegon/Aprendizaje-Profundo/blob/main/Sobel.ipynb\" target=\"_parent\"><img src=\"https://colab.research.google.com/assets/colab-badge.svg\" alt=\"Open In Colab\"/></a>"
      ],
      "metadata": {
        "id": "WMIl-4KUU2wY"
      }
    },
    {
      "cell_type": "code",
      "execution_count": null,
      "metadata": {
        "id": "qjK1zt4_Nt0R"
      },
      "outputs": [],
      "source": [
        "import numpy as np\n",
        "import matplotlib.pyplot\n",
        "from skimage import data, io, filters\n"
      ]
    },
    {
      "cell_type": "code",
      "source": [
        "image = data.coins()\n",
        "# ... or any other NumPy array!\n",
        "io.imshow(image)\n",
        "io.show()"
      ],
      "metadata": {
        "id": "j-Tp9F3COdkq"
      },
      "execution_count": null,
      "outputs": []
    },
    {
      "cell_type": "code",
      "source": [
        "\n",
        "edges = filters.sobel(image)\n",
        "io.imshow(edges)\n",
        "io.show()"
      ],
      "metadata": {
        "id": "dBGOGE1ON2w6"
      },
      "execution_count": null,
      "outputs": []
    },
    {
      "cell_type": "code",
      "source": [
        "sobel=[[-1, 0, 1], [-2, 0, 2], [-1, 0,1]]\n",
        "sobel = np.array(sobel)\n",
        "sobel"
      ],
      "metadata": {
        "id": "K9y38uzXPiEq"
      },
      "execution_count": null,
      "outputs": []
    },
    {
      "cell_type": "code",
      "source": [
        "edges2 = np.zeros(image.shape)\n",
        "for row in range(1,image.shape[0]-1):\n",
        "  for col in range(1,image.shape[1]-1):\n",
        "    cval = image[row-1][col-1]*sobel[0][0] + \\\n",
        "      image[row-1][col]*sobel[0][1] + \\\n",
        "      image[row-1][col+1]*sobel[0][2] + \\\n",
        "      image[row][col-1]*sobel[1][0] + \\\n",
        "      image[row][col]*sobel[1][1] + \\\n",
        "      image[row][col+1]*sobel[1][2] + \\\n",
        "      image[row+1][col-1]*sobel[2][0] + \\\n",
        "      image[row+1][col]*sobel[2][1] + \\\n",
        "      image[row+1][col+1]*sobel[2][2]\n",
        "    if cval*cval > 50000:\n",
        "      edges2[row][col] = 1\n",
        "io.imshow(edges2)\n",
        "io.show()"
      ],
      "metadata": {
        "id": "9mAod1BCQbkx"
      },
      "execution_count": null,
      "outputs": []
    },
    {
      "cell_type": "code",
      "source": [
        "sobel = sobel.T"
      ],
      "metadata": {
        "id": "NYPQwqLnULEl"
      },
      "execution_count": null,
      "outputs": []
    },
    {
      "cell_type": "code",
      "source": [
        "edges3 = np.zeros(image.shape)\n",
        "for row in range(1,image.shape[0]-1):\n",
        "  for col in range(1,image.shape[1]-1):\n",
        "    cval = image[row-1][col-1]*sobel[0][0] + \\\n",
        "      image[row-1][col]*sobel[0][1] + \\\n",
        "      image[row-1][col+1]*sobel[0][2] + \\\n",
        "      image[row][col-1]*sobel[1][0] + \\\n",
        "      image[row][col]*sobel[1][1] + \\\n",
        "      image[row][col+1]*sobel[1][2] + \\\n",
        "      image[row+1][col-1]*sobel[2][0] + \\\n",
        "      image[row+1][col]*sobel[2][1] + \\\n",
        "      image[row+1][col+1]*sobel[2][2]\n",
        "    if cval*cval > 50000:\n",
        "      edges3[row][col] = 1\n",
        "io.imshow(edges3)\n",
        "io.show()"
      ],
      "metadata": {
        "id": "-MgWswIyUFTm"
      },
      "execution_count": null,
      "outputs": []
    }
  ]
}
